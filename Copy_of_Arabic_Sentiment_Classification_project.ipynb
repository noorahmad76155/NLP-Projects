{
  "cells": [
    {
      "cell_type": "markdown",
      "metadata": {
        "id": "Klf1-MC3DEhi"
      },
      "source": [
        "We use a product review dataset"
      ]
    },
    {
      "cell_type": "code",
      "execution_count": null,
      "metadata": {
        "colab": {
          "base_uri": "https://localhost:8080/"
        },
        "id": "kvOJw5Bg6c5J",
        "outputId": "166cac2b-c229-46d1-8d5d-6470cd2c2bdd"
      },
      "outputs": [
        {
          "output_type": "stream",
          "name": "stdout",
          "text": [
            "--2022-01-07 19:01:50--  https://raw.githubusercontent.com/hadyelsahar/large-arabic-sentiment-analysis-resouces/master/datasets/PROD.csv\n",
            "Resolving raw.githubusercontent.com (raw.githubusercontent.com)... 185.199.108.133, 185.199.109.133, 185.199.110.133, ...\n",
            "Connecting to raw.githubusercontent.com (raw.githubusercontent.com)|185.199.108.133|:443... connected.\n",
            "HTTP request sent, awaiting response... 200 OK\n",
            "Length: 527639 (515K) [text/plain]\n",
            "Saving to: ‘PROD.csv’\n",
            "\n",
            "PROD.csv            100%[===================>] 515.27K  --.-KB/s    in 0.04s   \n",
            "\n",
            "2022-01-07 19:01:50 (13.5 MB/s) - ‘PROD.csv’ saved [527639/527639]\n",
            "\n"
          ]
        }
      ],
      "source": [
        "!wget https://raw.githubusercontent.com/hadyelsahar/large-arabic-sentiment-analysis-resouces/master/datasets/PROD.csv"
      ]
    },
    {
      "cell_type": "markdown",
      "metadata": {
        "id": "ZwlvjSR-DS15"
      },
      "source": [
        "## Imports"
      ]
    },
    {
      "cell_type": "code",
      "execution_count": null,
      "metadata": {
        "id": "23FSFg5t6fc1"
      },
      "outputs": [],
      "source": [
        "import tensorflow as tf\n",
        "import re\n",
        "import numpy as np\n",
        "import csv \n",
        "from tensorflow.keras.models import Sequential\n",
        "from keras.preprocessing.text import Tokenizer, text_to_word_sequence\n",
        "from keras.preprocessing.sequence import pad_sequences\n",
        "from sklearn.utils import shuffle\n"
      ]
    },
    {
      "cell_type": "markdown",
      "metadata": {
        "id": "bfbnvdT4Cmz0"
      },
      "source": [
        "## Read the Dataset"
      ]
    },
    {
      "cell_type": "markdown",
      "metadata": {
        "id": "MKhqB_MfCjEP"
      },
      "source": [
        "preprocess a review by removing special characters and long spaces"
      ]
    },
    {
      "cell_type": "code",
      "execution_count": null,
      "metadata": {
        "id": "uJYY29Za8fx2"
      },
      "outputs": [],
      "source": [
        "def process_review(review):\n",
        "  out = re.sub(r\"[^\\w\\s]\", '', review)\n",
        "  out = re.sub(r\"[a-zA-Z]\", '', out)\n",
        "  out = re.sub(r\"\\n\", '', out)\n",
        "  out = re.sub(r\"\\s+\", ' ', out)\n",
        "  return out.strip()"
      ]
    },
    {
      "cell_type": "code",
      "execution_count": null,
      "metadata": {
        "colab": {
          "base_uri": "https://localhost:8080/"
        },
        "id": "T7MjMLLn6gtK",
        "outputId": "1e5d2bbc-41a3-4f92-d53f-6d0abafc9ce9"
      },
      "outputs": [
        {
          "output_type": "stream",
          "name": "stdout",
          "text": [
            "1648\n"
          ]
        }
      ],
      "source": [
        "with open('PROD.csv', 'r') as csv_file:\n",
        "  reviews = []\n",
        "  labels  = []\n",
        "  all_text = \"\"\n",
        "  count = 0\n",
        "  pos_count = 0\n",
        "  \n",
        "  #read the data\n",
        "  lines = csv.reader(csv_file, delimiter = \",\")\n",
        "  for i, line in enumerate(lines):\n",
        "    \n",
        "    #ignore the first line\n",
        "    if i == 0: continue\n",
        "    \n",
        "    #preprocess the data\n",
        "    review = process_review(line[0])\n",
        "    label  = int(line[1])\n",
        "    \n",
        "    #only allow postiive and negative reviews, \n",
        "    #also make them the same length\n",
        "    \n",
        "    if label == 1:\n",
        "      pos_count +=1\n",
        "    elif label == 0:\n",
        "      continue\n",
        "    else:\n",
        "      label += 1\n",
        "      \n",
        "    if label == 1 and pos_count > 862:\n",
        "      continue\n",
        "    \n",
        "    if review == \"\":\n",
        "      continue\n",
        "    reviews.append(review)\n",
        "    all_text += review +' \\n '\n",
        "    labels.append(label)\n",
        "    \n",
        "#shuffle the data\n",
        "reviews, labels = shuffle(reviews, labels)\n",
        "print(len(reviews))"
      ]
    },
    {
      "cell_type": "markdown",
      "metadata": {
        "id": "gbqWg60hSZ7y"
      },
      "source": [
        "Look at the data"
      ]
    },
    {
      "cell_type": "code",
      "execution_count": null,
      "metadata": {
        "colab": {
          "base_uri": "https://localhost:8080/"
        },
        "id": "7U47oLKpD8aE",
        "outputId": "04f67fcd-3bbd-478c-a8ed-c68d92dbcba7"
      },
      "outputs": [
        {
          "output_type": "stream",
          "name": "stdout",
          "text": [
            "ممتازة ورائعة 1\n",
            "السلعة جيدة ولكن ليست السعلة التى اختارتها مو اول مرة تسوها معى 0\n",
            "رأيت هذه السلعة في أسواق التجهيزات الصوتية بسعر لا يتعدى ال 1150 ريال سعودي 0\n",
            "احببت هذه السللعه كثيرا ممتازه 1\n",
            "لم اتوقعها هكذا كنت اتمناها بمواصفات ذكية تناسب مستوى الايفون 0\n",
            "الجهاز رائع جدا واصلي ومعه ضمان عامان 1\n",
            "قمت بشراء أكثر من عطر من العربية للعود مثل كلماتي و سحر الكلمات و مستي وود ثبات الرائحة لهذه العطور غير جيدة إذا كنت تبحث عن عطر يدوم وقت أكثر على الجسم أو الملابس فعطور العربية للعود ليست اختيار مناسب على الاطلاق 0\n",
            "سلعه جيده لكنها باااهظة الثمن وهي صناعه صينيه 0\n",
            "جيدة جدا وجميلة وانصح الجميع بها وهي لاتسبب خشونه لشعر واوالوانها زاهية تماما ورائعة لمناسبات والاعياد 1\n",
            "انها عملية وجيدة وسهلة التنظيف 1\n"
          ]
        }
      ],
      "source": [
        "for i in range(0, 10):\n",
        "  print(reviews[i], labels[i])"
      ]
    },
    {
      "cell_type": "code",
      "execution_count": null,
      "metadata": {
        "id": "XfN0narotLU8"
      },
      "outputs": [],
      "source": [
        "#save the dataset\n",
        "with open('product_review.txt', 'w') as f:\n",
        "  for i in range(len(reviews)):\n",
        "    f.write(f\"{reviews[i]}, {labels[i]} '\\n'\")"
      ]
    },
    {
      "cell_type": "markdown",
      "metadata": {
        "id": "syg_fvtnC1AK"
      },
      "source": [
        "## Create Sequences\n",
        "Create sequences by using the most repeated 500 words"
      ]
    },
    {
      "cell_type": "code",
      "execution_count": null,
      "metadata": {
        "id": "EZYJqgvC49Mi"
      },
      "outputs": [],
      "source": [
        "tknzr = Tokenizer(lower=True, split=\" \")\n",
        "tknzr.fit_on_texts(reviews)\n",
        "\n",
        "#making sequences:\n",
        "X = tknzr.texts_to_sequences(reviews)\n",
        "X = pad_sequences(X, padding='post', value=0)"
      ]
    },
    {
      "cell_type": "markdown",
      "metadata": {
        "id": "Xq0Ber9ICcWb"
      },
      "source": [
        "## Create Numpy Arrays"
      ]
    },
    {
      "cell_type": "code",
      "execution_count": null,
      "metadata": {
        "colab": {
          "base_uri": "https://localhost:8080/"
        },
        "id": "8RbCFXQRBolT",
        "outputId": "596c5159-4452-49cc-b611-22ca1105754e"
      },
      "outputs": [
        {
          "output_type": "stream",
          "name": "stdout",
          "text": [
            "(1648, 113)\n"
          ]
        }
      ],
      "source": [
        "X = np.array(X)\n",
        "y = np.array(labels)\n",
        "\n",
        "print(X.shape)"
      ]
    },
    {
      "cell_type": "markdown",
      "metadata": {
        "id": "5uHdRK4cCrGJ"
      },
      "source": [
        "## Create the model"
      ]
    },
    {
      "cell_type": "code",
      "execution_count": null,
      "metadata": {
        "id": "p3u3OxEcBfJ2"
      },
      "outputs": [],
      "source": [
        "model = Sequential()\n",
        "model.add(Embedding(len(tknzr.word_index), 32))\n",
        "model.add(Bidirectional(GRU(units = 32)))\n",
        "model.add(Dense(32, activation = 'tanh'))\n",
        "model.add(Dropout(0.3))\n",
        "model.add(Dense(1, activation = 'sigmoid'))\n",
        "model.compile(optimizer = 'adam', loss = 'binary_crossentropy', metrics = ['accuracy'])"
      ]
    },
    {
      "cell_type": "code",
      "execution_count": null,
      "metadata": {
        "colab": {
          "base_uri": "https://localhost:8080/"
        },
        "id": "9DMLy0-x-WR5",
        "outputId": "68fade2a-746d-41d2-ca5c-084cba143616"
      },
      "outputs": [
        {
          "output_type": "stream",
          "name": "stdout",
          "text": [
            "Model: \"sequential\"\n",
            "_________________________________________________________________\n",
            " Layer (type)                Output Shape              Param #   \n",
            "=================================================================\n",
            " embedding (Embedding)       (None, None, 32)          217056    \n",
            "                                                                 \n",
            " bidirectional (Bidirectiona  (None, 64)               12672     \n",
            " l)                                                              \n",
            "                                                                 \n",
            " dense (Dense)               (None, 32)                2080      \n",
            "                                                                 \n",
            " dropout (Dropout)           (None, 32)                0         \n",
            "                                                                 \n",
            " dense_1 (Dense)             (None, 1)                 33        \n",
            "                                                                 \n",
            "=================================================================\n",
            "Total params: 231,841\n",
            "Trainable params: 231,841\n",
            "Non-trainable params: 0\n",
            "_________________________________________________________________\n"
          ]
        }
      ],
      "source": [
        "model.summary()"
      ]
    },
    {
      "cell_type": "markdown",
      "metadata": {
        "id": "5-7U36aDCtQu"
      },
      "source": [
        "## Train the model"
      ]
    },
    {
      "cell_type": "code",
      "execution_count": null,
      "metadata": {
        "colab": {
          "base_uri": "https://localhost:8080/"
        },
        "id": "52Ew-5ZyC3Nf",
        "outputId": "4f9f9c76-0ae8-4ae3-d7b3-79a50e8354fc"
      },
      "outputs": [
        {
          "output_type": "stream",
          "name": "stdout",
          "text": [
            "Epoch 1/7\n",
            "12/12 [==============================] - 9s 137ms/step - loss: 0.6918 - accuracy: 0.5145 - val_loss: 0.6890 - val_accuracy: 0.7030\n",
            "Epoch 2/7\n",
            "12/12 [==============================] - 1s 49ms/step - loss: 0.6791 - accuracy: 0.7269 - val_loss: 0.6804 - val_accuracy: 0.6424\n",
            "Epoch 3/7\n",
            "12/12 [==============================] - 1s 49ms/step - loss: 0.6405 - accuracy: 0.8564 - val_loss: 0.6342 - val_accuracy: 0.7697\n",
            "Epoch 4/7\n",
            "12/12 [==============================] - 1s 50ms/step - loss: 0.5193 - accuracy: 0.8982 - val_loss: 0.5324 - val_accuracy: 0.7939\n",
            "Epoch 5/7\n",
            "12/12 [==============================] - 1s 50ms/step - loss: 0.2961 - accuracy: 0.9252 - val_loss: 0.4795 - val_accuracy: 0.7939\n",
            "Epoch 6/7\n",
            "12/12 [==============================] - 1s 50ms/step - loss: 0.1659 - accuracy: 0.9514 - val_loss: 0.4697 - val_accuracy: 0.8121\n",
            "Epoch 7/7\n",
            "12/12 [==============================] - 1s 49ms/step - loss: 0.1128 - accuracy: 0.9676 - val_loss: 0.5130 - val_accuracy: 0.8182\n"
          ]
        },
        {
          "output_type": "execute_result",
          "data": {
            "text/plain": [
              "<keras.callbacks.History at 0x7fc21039b810>"
            ]
          },
          "metadata": {},
          "execution_count": 17
        }
      ],
      "source": [
        "model.fit(X, y, validation_split = 0.1, epochs = 7, batch_size= 128, shuffle = True)"
      ]
    },
    {
      "cell_type": "markdown",
      "metadata": {
        "id": "jwZQrxhdDV4r"
      },
      "source": [
        "## Tests"
      ]
    },
    {
      "cell_type": "code",
      "execution_count": null,
      "metadata": {
        "id": "-Q-Texz3DQsH"
      },
      "outputs": [],
      "source": [
        "class_names = ['سلبي' , 'إيجابي']\n",
        "def classify(sentence):\n",
        "  sentence = process_review(sentence)\n",
        "  sequence = [tknzr.word_index[word] for word in sentence.split(' ')]\n",
        "  sequence = pad_sequences([sequence], maxlen = X.shape[1], padding='post', value=0)\n",
        "  #print(sequence.dtype)\n",
        "  #print(sequence)\n",
        "  pred = model.predict(sequence)[0][0]\n",
        "  print(class_names[np.round(pred).astype('int')], pred)\n",
        "  "
      ]
    },
    {
      "cell_type": "code",
      "execution_count": null,
      "metadata": {
        "colab": {
          "base_uri": "https://localhost:8080/"
        },
        "id": "GMgcfGkZRLF2",
        "outputId": "1e8e7e45-afa0-4aa5-ff3c-a8c77488021b"
      },
      "outputs": [
        {
          "output_type": "stream",
          "name": "stdout",
          "text": [
            "إيجابي 0.7856761\n"
          ]
        }
      ],
      "source": [
        "classify(\"جميل\")"
      ]
    },
    {
      "cell_type": "code",
      "execution_count": null,
      "metadata": {
        "colab": {
          "base_uri": "https://localhost:8080/"
        },
        "id": "d-A1oIYFdopV",
        "outputId": "0bfec302-8c81-4ccd-9626-45d93d2ef7ee"
      },
      "outputs": [
        {
          "output_type": "stream",
          "name": "stdout",
          "text": [
            "إيجابي 0.76657635\n"
          ]
        }
      ],
      "source": [
        "classify(\"السلعة كانت جيدة\")"
      ]
    },
    {
      "cell_type": "code",
      "execution_count": null,
      "metadata": {
        "colab": {
          "base_uri": "https://localhost:8080/"
        },
        "id": "9uQNyxSodr0X",
        "outputId": "c20b8321-da76-4a30-d2d4-62a75d61e066"
      },
      "outputs": [
        {
          "output_type": "stream",
          "name": "stdout",
          "text": [
            "سلبي 0.13229607\n"
          ]
        }
      ],
      "source": [
        "classify(\"سيء\")"
      ]
    },
    {
      "cell_type": "code",
      "execution_count": null,
      "metadata": {
        "colab": {
          "base_uri": "https://localhost:8080/"
        },
        "id": "XKR_5ZN3dtSJ",
        "outputId": "1edd3271-db0f-4384-ce75-83a2e2b624a2"
      },
      "outputs": [
        {
          "output_type": "stream",
          "name": "stdout",
          "text": [
            "سلبي 0.13391067\n"
          ]
        }
      ],
      "source": [
        "classify(\"لا بأس بها\")"
      ]
    },
    {
      "cell_type": "code",
      "execution_count": null,
      "metadata": {
        "colab": {
          "base_uri": "https://localhost:8080/"
        },
        "id": "FTc_5B5OdxIc",
        "outputId": "6d8e0b34-f537-4048-921f-ba36159d12b8"
      },
      "outputs": [
        {
          "output_type": "stream",
          "name": "stdout",
          "text": [
            "سلبي 0.36554196\n"
          ]
        }
      ],
      "source": [
        "classify(\"تفاجأت بجودة المنتج\")"
      ]
    },
    {
      "cell_type": "code",
      "execution_count": null,
      "metadata": {
        "id": "Q2atRnC1szEF"
      },
      "outputs": [],
      "source": [
        "import csv\n",
        "def create_csv(file, dict):\n",
        "    with open(file, 'w') as csvfile:\n",
        "        writer = csv.writer(csvfile)\n",
        "        for key in dict.keys():\n",
        "            writer.writerow([key,dict[key]])"
      ]
    },
    {
      "cell_type": "code",
      "execution_count": null,
      "metadata": {
        "id": "2gpsbClOs0Z1"
      },
      "outputs": [],
      "source": [
        "create_csv(\"word2index.csv\", tknzr.word_index)"
      ]
    },
    {
      "cell_type": "code",
      "execution_count": null,
      "metadata": {
        "id": "wbm_GKaI8qmn"
      },
      "outputs": [],
      "source": [
        "model.save(\"keras.h5\")"
      ]
    }
  ],
  "metadata": {
    "accelerator": "GPU",
    "colab": {
      "collapsed_sections": [],
      "name": "Copy of Arabic_Sentiment_Classification_project.ipynb",
      "provenance": []
    },
    "kernelspec": {
      "display_name": "Python 3",
      "language": "python",
      "name": "python3"
    },
    "language_info": {
      "codemirror_mode": {
        "name": "ipython",
        "version": 3
      },
      "file_extension": ".py",
      "mimetype": "text/x-python",
      "name": "python",
      "nbconvert_exporter": "python",
      "pygments_lexer": "ipython3",
      "version": "3.6.5"
    }
  },
  "nbformat": 4,
  "nbformat_minor": 0
}